{
 "cells": [
  {
   "cell_type": "markdown",
   "metadata": {},
   "source": [
    "# **PySentimiento**\n",
    "```\n",
    "@article{DBLP:journals/corr/abs-2106-09462,\n",
    "  author       = {Juan Manuel P{\\'{e}}rez and\n",
    "                  Juan Carlos Giudici and\n",
    "                  Franco M. Luque},\n",
    "  title        = {pysentimiento: {A} Python Toolkit for Sentiment Analysis and SocialNLP\n",
    "                  tasks},\n",
    "  journal      = {CoRR},\n",
    "  volume       = {abs/2106.09462},\n",
    "  year         = {2021},\n",
    "  url          = {https://arxiv.org/abs/2106.09462},\n",
    "  eprinttype    = {arXiv},\n",
    "  eprint       = {2106.09462},\n",
    "  timestamp    = {Tue, 29 Jun 2021 16:55:04 +0200},\n",
    "  biburl       = {https://dblp.org/rec/journals/corr/abs-2106-09462.bib},\n",
    "  bibsource    = {dblp computer science bibliography, https://dblp.org}\n",
    "}\n",
    "```\n"
   ]
  },
  {
   "cell_type": "code",
   "execution_count": 1,
   "metadata": {},
   "outputs": [
    {
     "name": "stderr",
     "output_type": "stream",
     "text": [
      "d:\\UFS\\GitHub\\ASPBr\\venv\\Lib\\site-packages\\tqdm\\auto.py:21: TqdmWarning: IProgress not found. Please update jupyter and ipywidgets. See https://ipywidgets.readthedocs.io/en/stable/user_install.html\n",
      "  from .autonotebook import tqdm as notebook_tqdm\n"
     ]
    }
   ],
   "source": [
    "from pysentimiento import create_analyzer"
   ]
  },
  {
   "cell_type": "markdown",
   "metadata": {},
   "source": [
    "## **Análise de Sentimentos (Polaridades)**"
   ]
  },
  {
   "cell_type": "code",
   "execution_count": 2,
   "metadata": {},
   "outputs": [
    {
     "name": "stderr",
     "output_type": "stream",
     "text": [
      "d:\\UFS\\GitHub\\ASPBr\\venv\\Lib\\site-packages\\huggingface_hub\\file_download.py:142: UserWarning: `huggingface_hub` cache-system uses symlinks by default to efficiently store duplicated files but your machine does not support them in C:\\Users\\tulio\\.cache\\huggingface\\hub\\models--pysentimiento--bertweet-pt-sentiment. Caching files will still work but in a degraded version that might require more space on your disk. This warning can be disabled by setting the `HF_HUB_DISABLE_SYMLINKS_WARNING` environment variable. For more details, see https://huggingface.co/docs/huggingface_hub/how-to-cache#limitations.\n",
      "To support symlinks on Windows, you either need to activate Developer Mode or to run Python as an administrator. In order to activate developer mode, see this article: https://docs.microsoft.com/en-us/windows/apps/get-started/enable-your-device-for-development\n",
      "  warnings.warn(message)\n"
     ]
    }
   ],
   "source": [
    "polaridade_sentimento = create_analyzer(task=\"sentiment\", lang=\"pt\")"
   ]
  },
  {
   "cell_type": "code",
   "execution_count": 3,
   "metadata": {},
   "outputs": [
    {
     "data": {
      "text/plain": [
       "AnalyzerOutput(output=POS, probas={POS: 0.991, NEU: 0.007, NEG: 0.003})"
      ]
     },
     "execution_count": 3,
     "metadata": {},
     "output_type": "execute_result"
    }
   ],
   "source": [
    "polaridade_sentimento.predict(\"Que dia lindo!\")"
   ]
  },
  {
   "cell_type": "markdown",
   "metadata": {},
   "source": [
    "## **Análise de Emoções**"
   ]
  },
  {
   "cell_type": "code",
   "execution_count": 4,
   "metadata": {},
   "outputs": [
    {
     "name": "stderr",
     "output_type": "stream",
     "text": [
      "d:\\UFS\\GitHub\\ASPBr\\venv\\Lib\\site-packages\\huggingface_hub\\file_download.py:142: UserWarning: `huggingface_hub` cache-system uses symlinks by default to efficiently store duplicated files but your machine does not support them in C:\\Users\\tulio\\.cache\\huggingface\\hub\\models--pysentimiento--bert-pt-emotion. Caching files will still work but in a degraded version that might require more space on your disk. This warning can be disabled by setting the `HF_HUB_DISABLE_SYMLINKS_WARNING` environment variable. For more details, see https://huggingface.co/docs/huggingface_hub/how-to-cache#limitations.\n",
      "To support symlinks on Windows, you either need to activate Developer Mode or to run Python as an administrator. In order to activate developer mode, see this article: https://docs.microsoft.com/en-us/windows/apps/get-started/enable-your-device-for-development\n",
      "  warnings.warn(message)\n"
     ]
    }
   ],
   "source": [
    "emocoes = create_analyzer(task=\"emotion\", lang=\"pt\")"
   ]
  },
  {
   "cell_type": "code",
   "execution_count": 5,
   "metadata": {},
   "outputs": [
    {
     "data": {
      "text/plain": [
       "AnalyzerOutput(output=['sadness'], probas={admiration: 0.006, amusement: 0.003, anger: 0.005, annoyance: 0.008, approval: 0.005, caring: 0.009, confusion: 0.003, curiosity: 0.006, desire: 0.004, disappointment: 0.057, disapproval: 0.003, disgust: 0.003, embarrassment: 0.002, excitement: 0.002, fear: 0.006, gratitude: 0.005, grief: 0.057, joy: 0.011, love: 0.004, nervousness: 0.007, optimism: 0.003, pride: 0.001, realization: 0.005, relief: 0.004, remorse: 0.010, sadness: 0.962, surprise: 0.002, neutral: 0.020})"
      ]
     },
     "execution_count": 5,
     "metadata": {},
     "output_type": "execute_result"
    }
   ],
   "source": [
    "emocoes.predict(\"Hoje estou muito triste e cansado\")"
   ]
  },
  {
   "cell_type": "code",
   "execution_count": null,
   "metadata": {},
   "outputs": [],
   "source": []
  }
 ],
 "metadata": {
  "kernelspec": {
   "display_name": "venv",
   "language": "python",
   "name": "python3"
  },
  "language_info": {
   "codemirror_mode": {
    "name": "ipython",
    "version": 3
   },
   "file_extension": ".py",
   "mimetype": "text/x-python",
   "name": "python",
   "nbconvert_exporter": "python",
   "pygments_lexer": "ipython3",
   "version": "3.11.2"
  }
 },
 "nbformat": 4,
 "nbformat_minor": 2
}
